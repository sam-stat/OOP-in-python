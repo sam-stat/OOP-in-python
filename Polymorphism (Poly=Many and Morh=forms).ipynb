{
 "cells": [
  {
   "cell_type": "markdown",
   "metadata": {},
   "source": [
    "# 1. Duck Typing"
   ]
  },
  {
   "cell_type": "markdown",
   "metadata": {},
   "source": [
    "Analogy- If we have a bird that *Walk like a duck, *Fly like a bird and *Swim like a duck it is a duck\n",
    "Same way if we have a part of the code which is using an object which has some method. Now suppose if \n",
    "we change the object(In that part of code),\n",
    "but if the new object also have the same method then we can seamlessly run that part of the code. "
   ]
  },
  {
   "cell_type": "code",
   "execution_count": 9,
   "metadata": {},
   "outputs": [
    {
     "name": "stdout",
     "output_type": "stream",
     "text": [
      "MyIDE\n",
      "Spell check\n",
      "Compile\n",
      "Run\n",
      "Code Executed\n",
      "################################################################\n",
      "Pycharm\n",
      "Compile\n",
      "Run\n",
      "Code Executed\n"
     ]
    }
   ],
   "source": [
    "class PyCharm: #class having a execute method\n",
    "    def execute(self):\n",
    "        print(\"Compile\")\n",
    "        print(\"Run\")\n",
    "class MyIDE:  #another class having a execute method\n",
    "    def execute(self):\n",
    "        print(\"Spell check\")\n",
    "        print(\"Compile\")\n",
    "        print(\"Run\")    \n",
    "\n",
    "\n",
    "class laptop: #class of laptop having one method of code which is using a object call ide\n",
    "    def Code(self,ide):\n",
    "        ide.execute()\n",
    "        print(\"Code Executed\")\n",
    "        \n",
    "print(\"MyIDE\")\n",
    "ide=MyIDE() #I am defing a object\n",
    "lap=laptop()\n",
    "lap.Code(ide)\n",
    "print(\"################################################################\")\n",
    "print(\"Pycharm\")\n",
    "ide=PyCharm() #I am defing a different but it is also having a same execute function \n",
    "lap=laptop()\n",
    "lap.Code(ide)\n"
   ]
  },
  {
   "cell_type": "markdown",
   "metadata": {},
   "source": [
    "# 2. Operator overloading and Overriding\n"
   ]
  },
  {
   "cell_type": "markdown",
   "metadata": {},
   "source": [
    "In python everything is a class object. For example if we define a variable \n",
    "a=5, then it actually means that it is creating a object of class int. Same we if \n",
    "we define b of int and add it up using a+b it is actually calling its method \"__add__\" (which are called as magic method),\n",
    "and calling them in the following way.\n",
    "\n",
    "Operator overloading and overiding usually means using the same operator +,-,/,* and make them usable for user defined class objects.\n",
    "\n",
    "Operator overriding means we are overiding a existing method which is already there in the class."
   ]
  },
  {
   "cell_type": "code",
   "execution_count": 53,
   "metadata": {},
   "outputs": [
    {
     "name": "stdout",
     "output_type": "stream",
     "text": [
      "11\n",
      "11\n",
      "#############################################################\n"
     ]
    },
    {
     "data": {
      "text/plain": [
       "55"
      ]
     },
     "execution_count": 53,
     "metadata": {},
     "output_type": "execute_result"
    }
   ],
   "source": [
    "a=5\n",
    "b=6\n",
    "print (a+b)\n",
    "print(int.__add__(a,b)) #So both of them printing the same thing\n",
    "\n",
    "#Even not only add we have other operation such as __sub__,__mul__, etc \n",
    "\n",
    "print(\"#############################################################\")\n",
    "#Now let us try to use add method in a user defined class. Since we dont\n",
    "#have a __add__ method in the user defined class, so we have to add them separately.\n",
    "\n",
    "class Student():\n",
    "    def __init__(self,m1,m2):\n",
    "        self.m1=m1\n",
    "        self.m2=m2\n",
    "    def __add__(self,other): #We are defining it separtely for add\n",
    "        r1=self.m1+other.m1\n",
    "        r2=self.m2+other.m2\n",
    "        return r1+r2\n",
    "    \n",
    "s1=Student(12,13)\n",
    "s2=Student(15,15)\n",
    "s1+s2 #This is a example of overloding since we didnt have predefined\n",
    "#operators on the defined class so we have constructed those operators and uploaded it."
   ]
  },
  {
   "cell_type": "code",
   "execution_count": 54,
   "metadata": {},
   "outputs": [
    {
     "name": "stdout",
     "output_type": "stream",
     "text": [
      "5\n",
      "<__main__.Student object at 0x00000145ABD18C50>\n"
     ]
    },
    {
     "data": {
      "text/plain": [
       "'5'"
      ]
     },
     "execution_count": 54,
     "metadata": {},
     "output_type": "execute_result"
    }
   ],
   "source": [
    "#Let us consider the example of method Overriding- In this case we will over ride a already\n",
    "#existing method inside a class. Let us consider the print function and let us see how it differs from two different instances\n",
    "#one will be existing defined class and other will be user defined class.\n",
    "a=5\n",
    "print(a.__str__())\n",
    "s1=Student(12,13)\n",
    "print(s1.__str__())\n",
    "\n",
    "#From the output we see that print for the defined class show the value and for the second case showing the address.\n",
    "#Now actually calling print is same as calling __str__(), that is \n",
    "int.__str__(a)"
   ]
  },
  {
   "cell_type": "code",
   "execution_count": 55,
   "metadata": {},
   "outputs": [
    {
     "name": "stdout",
     "output_type": "stream",
     "text": [
      "12,13\n"
     ]
    }
   ],
   "source": [
    "#So now we will over-ride the existig __str__ function in the class student just that it also shows us the values,\n",
    "class Student():\n",
    "    def __init__(self,m1,m2):\n",
    "        self.m1=m1\n",
    "        self.m2=m2    \n",
    "    def __str__(self):\n",
    "        return \"{},{}\".format(self.m1,self.m2) #We are overriding the str function here\n",
    "    def __add__(self,other): #We are defining it separtely for add\n",
    "        r1=self.m1+other.m1\n",
    "        r2=self.m2+other.m2\n",
    "        return r1+r2\n",
    "s=Student(12,13)\n",
    "print(s.__str__())"
   ]
  },
  {
   "cell_type": "markdown",
   "metadata": {},
   "source": [
    "# 3. Method Overloading"
   ]
  },
  {
   "cell_type": "markdown",
   "metadata": {},
   "source": [
    "It means we will have two methods of same name inside a class but with different argument lenght.\n",
    "So it is not supported in python and we achienve is by giving default values of the arguments."
   ]
  },
  {
   "cell_type": "code",
   "execution_count": 58,
   "metadata": {},
   "outputs": [
    {
     "name": "stdout",
     "output_type": "stream",
     "text": [
      "269\n",
      "12\n",
      "35\n"
     ]
    }
   ],
   "source": [
    "class Student:\n",
    "    def add(self,a=None,b=None,c=None): #function with default values\n",
    "        s=0\n",
    "        if (a!=None and b!=None and c!=None):\n",
    "            s=a+b+c\n",
    "        elif (a!=None and b!=None):\n",
    "            s=a+b\n",
    "        else:\n",
    "            s=a\n",
    "        return s\n",
    "\n",
    "s=Student()    \n",
    "print(s.add(12,234,23))\n",
    "print(s.add(12))\n",
    "print(s.add(12,23))\n",
    "#So we have achieved method overloading in a different way"
   ]
  },
  {
   "cell_type": "markdown",
   "metadata": {},
   "source": [
    "# 4. Method Overriding"
   ]
  },
  {
   "cell_type": "markdown",
   "metadata": {},
   "source": [
    "Let us consider two classes X(Parent) and Y(Child), one inheriting the other one(Single level inheritance).\n",
    "Now suppose, if a method say A is present in the inherited class Y, and the method with same name is also \n",
    "coming from class X(parent), then whenever we are calling A from a object of class X then it will call it from the \n",
    "A of class Y not the method A from class X."
   ]
  },
  {
   "cell_type": "code",
   "execution_count": null,
   "metadata": {},
   "outputs": [],
   "source": []
  }
 ],
 "metadata": {
  "kernelspec": {
   "display_name": "Python 3",
   "language": "python",
   "name": "python3"
  },
  "language_info": {
   "codemirror_mode": {
    "name": "ipython",
    "version": 3
   },
   "file_extension": ".py",
   "mimetype": "text/x-python",
   "name": "python",
   "nbconvert_exporter": "python",
   "pygments_lexer": "ipython3",
   "version": "3.7.3"
  }
 },
 "nbformat": 4,
 "nbformat_minor": 2
}
