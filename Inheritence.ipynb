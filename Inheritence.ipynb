{
 "cells": [
  {
   "cell_type": "markdown",
   "metadata": {},
   "source": [
    "# Inheritance"
   ]
  },
  {
   "cell_type": "code",
   "execution_count": 25,
   "metadata": {},
   "outputs": [
    {
     "name": "stdout",
     "output_type": "stream",
     "text": [
      "Feature 1 is working\n",
      "Feature 3 is working\n",
      "Feature 1 is working\n"
     ]
    }
   ],
   "source": [
    "#Single level\n",
    "\n",
    "class A:           #Super class or parent class\n",
    "    def feature1(self):\n",
    "        print(\"Feature 1 is working\")\n",
    "    def feature2(self):\n",
    "        print(\"Feature 2 is working\")\n",
    "\n",
    "class B(A):        #Sub class or child class(Inheriting class A)                     \n",
    "    def feature3(self):\n",
    "        print(\"Feature 3 is working\")\n",
    "    def feature4(self):\n",
    "        print(\"Feature 4 is working\")\n",
    "        \n",
    "        \n",
    "#Above is an single level inheritence similarly a already inherited class can act as a parent for another class\n",
    "\n",
    "class C(B):        #Sub class or child class(Inheriting class B- Multilevel Inheritence)                     \n",
    "    def feature5(self):\n",
    "        print(\"Feature 5 is working\")\n",
    "        \n",
    "######################################################################################################################\n",
    "        \n",
    "        \n",
    "#Since B is inheriting A, so B will have access to methods of class A\n",
    "\n",
    "b1=B()\n",
    "b1.feature1() #We are able to call feature 1 from the object of class B\n",
    "b1.feature3()\n",
    "\n",
    "#Creating a object of C class\n",
    "c1=C()\n",
    "c1.feature1() #It has inherited the features of not only the parents class but also its predessors"
   ]
  },
  {
   "cell_type": "code",
   "execution_count": 2,
   "metadata": {},
   "outputs": [
    {
     "name": "stdout",
     "output_type": "stream",
     "text": [
      "Feature 1 is working\n"
     ]
    }
   ],
   "source": [
    "#Multiple inheritence\n",
    "class A:           \n",
    "    def feature1(self):\n",
    "        print(\"Feature 1 is working\")\n",
    "    def feature2(self):\n",
    "        print(\"Feature 2 is working\")\n",
    "\n",
    "class B:                            \n",
    "    def feature3(self):\n",
    "        print(\"Feature 3 is working\")\n",
    "    def feature4(self):\n",
    "        print(\"Feature 4 is working\")\n",
    "\n",
    "class C(A,B):  #Inheriting both classes A and B                           \n",
    "    def feature5(self):\n",
    "        print(\"Feature 5 is working\")\n",
    "        \n",
    "#####################################################################################\n",
    "\n",
    "c1=C()\n",
    "c1.feature1() #Since it has access to all the features of class A and class B -Multiple inheritence"
   ]
  },
  {
   "cell_type": "markdown",
   "metadata": {},
   "source": [
    "# Contructors in inherited class and MRO(Method resolution order)"
   ]
  },
  {
   "cell_type": "markdown",
   "metadata": {},
   "source": [
    "Case1: When we have B as child class which doesnt have any constructor/__init__ function"
   ]
  },
  {
   "cell_type": "code",
   "execution_count": 14,
   "metadata": {
    "scrolled": true
   },
   "outputs": [
    {
     "name": "stdout",
     "output_type": "stream",
     "text": [
      "This is init for class A\n"
     ]
    },
    {
     "data": {
      "text/plain": [
       "'Remark: When we are calling object of B which doesnt have its constructor,at that time it calls constructor for class A'"
      ]
     },
     "execution_count": 14,
     "metadata": {},
     "output_type": "execute_result"
    }
   ],
   "source": [
    "class A: \n",
    "    def __init__(self): #This class is having its constructor\n",
    "        print(\"This is init for class A\")\n",
    "    def feature1(self):\n",
    "        print(\"Feature 1 is working\")\n",
    "    def feature2(self):\n",
    "        print(\"Feature 2 is working\")\n",
    "\n",
    "class B(A):    #This class is inheriting class A but with no constructor\n",
    "    def feature3(self):\n",
    "        print(\"Feature 3 is working\")\n",
    "    def feature4(self):\n",
    "        print(\"Feature 4 is working\")\n",
    "b1=B() \n",
    "\"\"\"Remark: When we are calling object of B which doesnt have its constructor,at that time it calls constructor for class A\"\"\""
   ]
  },
  {
   "cell_type": "markdown",
   "metadata": {},
   "source": [
    "Case 2: When we have B as child class which have its own constructor/init function and also inherits from parent"
   ]
  },
  {
   "cell_type": "code",
   "execution_count": 16,
   "metadata": {},
   "outputs": [
    {
     "name": "stdout",
     "output_type": "stream",
     "text": [
      "This is init for class B\n"
     ]
    },
    {
     "data": {
      "text/plain": [
       "'Remark: When we are calling object of B which have its constructor,at that time it doesnt calls constructor for \\n   class A parent class'"
      ]
     },
     "execution_count": 16,
     "metadata": {},
     "output_type": "execute_result"
    }
   ],
   "source": [
    "class A: \n",
    "    def __init__(self): #This class is having its constructor\n",
    "        print(\"This is init for class A\")\n",
    "    def feature1(self):\n",
    "        print(\"Feature 1 is working\")\n",
    "    def feature2(self):\n",
    "        print(\"Feature 2 is working\")\n",
    "\n",
    "class B(A):    #This class is inheriting class A but with no constructor\n",
    "    def __init__(self): #This class is having its constructor\n",
    "        print(\"This is init for class B\")\n",
    "    def feature3(self):\n",
    "        print(\"Feature 3 is working\")\n",
    "    def feature4(self):\n",
    "        print(\"Feature 4 is working\")\n",
    "\n",
    "\n",
    "\n",
    "b1=B()      #Since this time it got its own constructor so it didnt call the constructor of parent class\n",
    "\n",
    "\"\"\"Remark: When we are calling object of B which have its constructor,at that time it doesnt calls constructor for \n",
    "   class A parent class\"\"\""
   ]
  },
  {
   "cell_type": "markdown",
   "metadata": {},
   "source": [
    "Case 3: When a class which doesnt have its constructor inherits from two classes which have constructors-Application of MRO\n",
    "\n",
    "What is MRO?\n",
    "Suppose we have a class say C inheriting from several classes A1,A2,A3...A100.\n",
    "That is Class C(A1,A2,A3...A100)\n",
    "Now let us consider we have a method that is existing for all the class Ai but not C say it be method \"Common\". \n",
    "Now by virtue of inheritance we will get method \"Common\" in class C also, but now the question arises whose \"Common\" it will have. Usually it will have the \"Common\" of A1, as it is on the extreme left most side in the declaration of C.\n",
    "This is known as MRO."
   ]
  },
  {
   "cell_type": "code",
   "execution_count": 17,
   "metadata": {},
   "outputs": [
    {
     "name": "stdout",
     "output_type": "stream",
     "text": [
      "This is init for class A\n"
     ]
    },
    {
     "data": {
      "text/plain": [
       "'Remark: Now C is inheriting from both class A and B and doent have its own constructor, \\nSo it will go from left to right and whoever class comes, that init will be shown and this is called as MRO\\nNot only init method, any function with same name, from the parent class, the class will be chosen on the basis of MRO '"
      ]
     },
     "execution_count": 17,
     "metadata": {},
     "output_type": "execute_result"
    }
   ],
   "source": [
    "class A: \n",
    "    def __init__(self): \n",
    "        print(\"This is init for class A\")\n",
    "    def feature1(self):\n",
    "        print(\"Feature 1 is working\")\n",
    "    def feature2(self):\n",
    "        print(\"Feature 2 is working\")\n",
    "\n",
    "class B:    #This class is inheriting class A but with no constructor\n",
    "    def __init__(self): \n",
    "        print(\"This is init for class B\")\n",
    "    def feature3(self):\n",
    "        print(\"Feature 3 is working\")\n",
    "    def feature4(self):\n",
    "        print(\"Feature 4 is working\")\n",
    "class C(A,B):    #Multiple inherited class\n",
    "    def feature3(self):\n",
    "        print(\"Feature 3 is working\")\n",
    "    def feature4(self):\n",
    "        print(\"Feature 4 is working\")\n",
    "        \n",
    "\n",
    "c1=C()\n",
    "\"\"\"Remark: Now C is inheriting from both class A and B and doent have its own constructor, \n",
    "So it will go from left to right and whoever class comes, that init will be shown and this is called as MRO\n",
    "Not only init method, any function with same name, from the parent class, the class will be chosen on the basis of MRO \"\"\"\n"
   ]
  },
  {
   "cell_type": "markdown",
   "metadata": {},
   "source": [
    "Case 4: Super method to call a function of parent class from inherited class"
   ]
  },
  {
   "cell_type": "code",
   "execution_count": 24,
   "metadata": {},
   "outputs": [
    {
     "name": "stdout",
     "output_type": "stream",
     "text": [
      "This is init for class A\n",
      "This is init for class C\n"
     ]
    },
    {
     "data": {
      "text/plain": [
       "'Remark: This is again a example of MRO, where super() chooses class A init instead of B'"
      ]
     },
     "execution_count": 24,
     "metadata": {},
     "output_type": "execute_result"
    }
   ],
   "source": [
    "class A: \n",
    "    def __init__(self): \n",
    "        print(\"This is init for class A\")\n",
    "    def feature1(self):\n",
    "        print(\"Feature 1 is working\")\n",
    "\n",
    "class B:    #This class is inheriting class A but with no constructor\n",
    "    def __init__(self): \n",
    "        print(\"This is init for class B\")\n",
    "    def feature2(self):\n",
    "        print(\"Feature 2 is working\")\n",
    "\n",
    "        \n",
    "class C(A,B):    #Multiple inherited class\n",
    "    def __init__(self): #This one works with python3\n",
    "        super().__init__() #super method to acess the init function of parent class -By default it choose the init of class A (MRO)\n",
    "        print(\"This is init for class C\")\n",
    "    def feature3(self):\n",
    "        print(\"Feature 3 is working\")\n",
    "\n",
    "c1=C()\n",
    "\"\"\"Remark: This is again a example of MRO, where super() chooses class A init instead of B\"\"\""
   ]
  },
  {
   "cell_type": "code",
   "execution_count": null,
   "metadata": {},
   "outputs": [],
   "source": []
  }
 ],
 "metadata": {
  "kernelspec": {
   "display_name": "Python 3",
   "language": "python",
   "name": "python3"
  },
  "language_info": {
   "codemirror_mode": {
    "name": "ipython",
    "version": 3
   },
   "file_extension": ".py",
   "mimetype": "text/x-python",
   "name": "python",
   "nbconvert_exporter": "python",
   "pygments_lexer": "ipython3",
   "version": "3.7.3"
  }
 },
 "nbformat": 4,
 "nbformat_minor": 2
}
