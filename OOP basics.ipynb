{
 "cells": [
  {
   "cell_type": "markdown",
   "metadata": {},
   "source": [
    "# Classes and Object"
   ]
  },
  {
   "cell_type": "raw",
   "metadata": {},
   "source": [
    "In our real life we have objects which we use to do our daily work,\n",
    "such as laptop for doing programming, camera for clicking pictures etc. In OOP\n",
    "we define objects which are similar to onces which we percieve in real life.\n",
    "We know for every objects in real life have two imortant things. One is \n",
    "1. Attributes-whcihch are like variables  and other one is \n",
    "2. Methods- whcih is the thing we do, which can be achieved by functions in OOP.\n",
    "\n",
    "Class: Let us consider the case for a mobile phone which we are having say samsung s8. \n",
    "       It is an object. It has attributes such as weights,it processor etc. and functions\n",
    "       like calling, etc. But there are millions of phone of the same company exists which\n",
    "       are exactly as the one we are having. So for the phone s8, is the design and we are having \n",
    "       millions of object of it. The class is the design for the objects in OOP.\n"
   ]
  },
  {
   "cell_type": "code",
   "execution_count": 10,
   "metadata": {},
   "outputs": [
    {
     "name": "stdout",
     "output_type": "stream",
     "text": [
      "Hi you are inside config\n",
      "Hi you are inside config\n",
      "<class '__main__.Student'>\n"
     ]
    }
   ],
   "source": [
    "#Let us assume we want to create a object of class Student, we do like this \n",
    "class Student:\n",
    "    def config(self): #self: the argument of the config function and config is the method for Student class\n",
    "        print(\"Hi you are inside config\")\n",
    "\n",
    "a=Student() #This is the way of defining a object of class Student\n",
    "Student.config(a) #This way we call function-config of object Student and then pass the object a as a argument for config\n",
    "a.config() #This is another way of calling the method of class Student\n",
    "print(type(a)) #This prints the type of a, which is a object of class student"
   ]
  },
  {
   "cell_type": "code",
   "execution_count": 12,
   "metadata": {},
   "outputs": [
    {
     "name": "stdout",
     "output_type": "stream",
     "text": [
      "<class 'int'>\n",
      "<class 'str'>\n"
     ]
    }
   ],
   "source": [
    "#In python everything is object, even integers and strings also \n",
    "a=5\n",
    "print(type(a)) #So this is a object of class int\n",
    "a='5'\n",
    "print(type(a)) #So this is a object of class string"
   ]
  },
  {
   "cell_type": "markdown",
   "metadata": {},
   "source": [
    "__init__ method for initialisation of class objects"
   ]
  },
  {
   "cell_type": "code",
   "execution_count": 21,
   "metadata": {},
   "outputs": [
    {
     "name": "stdout",
     "output_type": "stream",
     "text": [
      "The computer is having processor i5 and 7 gb ram\n"
     ]
    }
   ],
   "source": [
    "class Laptop:\n",
    "    def __init__(self,cpu,ram):\n",
    "        self.ram=ram\n",
    "        self.cpu=cpu\n",
    "    def config(self):\n",
    "        print(\"The computer is having processor {} and {} gb ram\".format(self.cpu,self.ram))\n",
    "        \n",
    "a=Laptop(\"i5\",7) #Object of class Laptop and here we are passing processor and ram as arguments\n",
    "a.config()\n",
    "\n",
    "#Even if we dont define __init__ inside a class, it has already a __init__ function defined inside it.\n",
    "#By changing the value of "
   ]
  },
  {
   "cell_type": "markdown",
   "metadata": {},
   "source": [
    "# Constructors and self"
   ]
  },
  {
   "cell_type": "code",
   "execution_count": 43,
   "metadata": {},
   "outputs": [
    {
     "name": "stdout",
     "output_type": "stream",
     "text": [
      "2016513940000\n",
      "The name of the student is Samiran and age is 21\n",
      "The name of the student is Samiran and age is -1\n",
      "The name of the student is Neha and age is 12\n"
     ]
    }
   ],
   "source": [
    "#Let us consider a class\n",
    "class Computer:\n",
    "    pass\n",
    "a=Computer() # a object of class computer\n",
    "print(id(a)) #id function mainly helps in finding the address of a created object. It creates a space in heap memory\n",
    "\"\"\"So every time we are creating a object we are getting a space in the heap memory for it.\n",
    "Now the question arises that who handles the space allocation for the created object, the answer is Constructor\n",
    "Constructor not only handles the address allocation but also how much space will be required for its initialisation\n",
    "But in the previous case we have not defined any constructor, how it has called the constructed. So the idea is even \n",
    "if we dont explicitly write the constructor that is the __init__() function, it gets automatically created\"\"\"\n",
    "\n",
    "\n",
    "\n",
    "#Self\n",
    "#We already know that how to create a object, which takes parameters, let us consider a class Student which by default takes\n",
    "#name and age and the has a function inside it called update which will update the value of age.\n",
    "class Student:\n",
    "    def __init__(self,name,age): #Explicitly defining the constructor\n",
    "        self.name=name\n",
    "        self.age=age\n",
    "    def show(self): #a function that just shows the values it contains\n",
    "        print(\"The name of the student is {} and age is {}\".format(self.name,self.age))\n",
    "    def update(self):\n",
    "        self.age=-1\n",
    "s1=Student(\"Samiran\",21) #Creating a object of a class student\n",
    "s1.show() #Showing the values in it\n",
    "s1.update() #Update the value in it\n",
    "s1.show() #again Showing the values in it\n",
    "\n",
    "s2=Student(\"Neha\",12) #Creating another object of class student\n",
    "s2.show()\n",
    "\n",
    "#Now see that s2 student doesnt have the age as -1. So we understand that for a function inside a class if has self in it\n",
    "#It will assure that it will act upon the object who is calling it.\n",
    "#So self assures whatever the thing we are doing, we are doing it on the object we are calling from"
   ]
  },
  {
   "cell_type": "markdown",
   "metadata": {},
   "source": [
    "# Types of variables inside a class"
   ]
  },
  {
   "cell_type": "code",
   "execution_count": 54,
   "metadata": {},
   "outputs": [
    {
     "name": "stdout",
     "output_type": "stream",
     "text": [
      "The name of the student is Sam and age is 23. Also he has 2 legs\n",
      "The name of the student is Sam and age is 23. Also he has 7 legs\n",
      "The name of the student is Gag and age is 2. Also he has 7 legs\n"
     ]
    }
   ],
   "source": [
    "\"\"\"There are two types of variables Class variable and Instance variable\n",
    "1. Class Variable: The variable which are defined inside the class scope \n",
    "   and not iside the constructor is called a class variable\n",
    "2. Instance variable: The variable that is declared inside the constructor is called a instance variable\n",
    "Class variable will be shared across all the objects but instance variable will be specific to a object\"\"\"\n",
    "class Student:\n",
    "    legs=2\n",
    "    def __init__(self,name,age): #Explicitly defining the constructor\n",
    "        self.name=name\n",
    "        self.age=age\n",
    "    def show(self): #a function that just shows the values it contains\n",
    "        print(\"The name of the student is {} and age is {}. Also he has {} legs\".format(self.name,self.age,self.legs))\n",
    "\n",
    "a=Student(\"Sam\",23) #Creating a object of class student\n",
    "a.show()\n",
    "Student.legs=7 #Setting up the class variable value to 7\n",
    "a.show()\n",
    "\n",
    "b=Student(\"Gag\",2) #Creating a new student object\n",
    "b.show() #The class variable is shared and it has got changed"
   ]
  },
  {
   "cell_type": "code",
   "execution_count": 75,
   "metadata": {},
   "outputs": [
    {
     "name": "stdout",
     "output_type": "stream",
     "text": [
      "The name of the student is Sam and age is 12. Also he has 2 legs\n",
      "2\n",
      "This is student class\n"
     ]
    }
   ],
   "source": [
    "\"\"\"Type of methods inside a class\n",
    "1. Instance method- A method that will be using the instance variable\n",
    "The instance variables are also of two types\n",
    "    1.1.Accesors-One who will acess the value of the instance variables\n",
    "    1.2.Mutators-One who will modify the value of the instance variables\n",
    "2. Class method -A method that is not specific to a object and works with only the class variable inside the class\n",
    "3. Static method- A method which will neither be instance or class method is called a static variable\n",
    "\"\"\"\n",
    "\n",
    "class Student:\n",
    "    legs=2\n",
    "    def __init__(self,name,age): #Explicitly defining the constructor\n",
    "        self.name=name\n",
    "        self.age=age\n",
    "    def show(self): #a function that just shows the values it contains -Acessing the value of the instance variables- Accesors\n",
    "        print(\"The name of the student is {} and age is {}. Also he has {} legs\".format(self.name,self.age,self.legs))\n",
    "    def update(self): #a function that modeifies the value of the instance variables -Mutators\n",
    "        self.age=-1    \n",
    "    @classmethod #Decorator for defining a class variable\n",
    "    def getLegInfo(cls): #Class method\n",
    "        return cls.legs #Accesing a class variable\n",
    "    \n",
    "    @staticmethod #Decorator for defining a static variable\n",
    "    def info(): #static method\n",
    "        print (\"This is student class\")\n",
    "\n",
    "a=Student(\"Sam\",12)\n",
    "a.show()\n",
    "print(Student.getLegInfo()) #Accesing a class method\n",
    "Student.info() #Accesing a static method\n"
   ]
  },
  {
   "cell_type": "markdown",
   "metadata": {},
   "source": [
    "# Inner Class: Class inside a class"
   ]
  },
  {
   "cell_type": "code",
   "execution_count": 7,
   "metadata": {},
   "outputs": [
    {
     "name": "stdout",
     "output_type": "stream",
     "text": [
      "Sam 25\n",
      "i6 12\n"
     ]
    }
   ],
   "source": [
    "#Here we will create a class student and inside it we will create a inner class call\n",
    "#it as Laptop which will contain the student laptop details\n",
    "class Student:\n",
    "    \n",
    "    def __init__(self,name,roll,cpu,ram):\n",
    "        self.name=name\n",
    "        self.roll=roll\n",
    "        self.Lap=self.Laptop(cpu,ram) #We are creating a object of inner class laptop....Note that we are also\n",
    "                                      #passing the values we need for the creating the inner class  \n",
    "    \n",
    "    def show(self): #Show function for showing up the contents of the class\n",
    "        print(self.name,self.roll)\n",
    "        self.Lap.show() #showing the details of the laptop inner class\n",
    "    \n",
    "    class Laptop:\n",
    "        def __init__(self,cpu,ram):\n",
    "            self.cpu=cpu\n",
    "            self.ram=ram\n",
    "        def show(self): #inner class show\n",
    "            print(self.cpu,self.ram)\n",
    "    \n",
    "s1=Student(\"Sam\",25,\"i6\",12) #Creating a object of a student class\n",
    "s1.show() #Show for the outer class"
   ]
  },
  {
   "cell_type": "code",
   "execution_count": null,
   "metadata": {},
   "outputs": [],
   "source": []
  },
  {
   "cell_type": "code",
   "execution_count": null,
   "metadata": {},
   "outputs": [],
   "source": []
  },
  {
   "cell_type": "code",
   "execution_count": null,
   "metadata": {},
   "outputs": [],
   "source": []
  }
 ],
 "metadata": {
  "kernelspec": {
   "display_name": "Python 3",
   "language": "python",
   "name": "python3"
  },
  "language_info": {
   "codemirror_mode": {
    "name": "ipython",
    "version": 3
   },
   "file_extension": ".py",
   "mimetype": "text/x-python",
   "name": "python",
   "nbconvert_exporter": "python",
   "pygments_lexer": "ipython3",
   "version": "3.7.3"
  }
 },
 "nbformat": 4,
 "nbformat_minor": 2
}
